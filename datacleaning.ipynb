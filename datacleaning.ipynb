{
 "cells": [
  {
   "cell_type": "code",
   "execution_count": 125,
   "id": "d3cebc3d-c843-427e-80e7-e22b0b4d396a",
   "metadata": {},
   "outputs": [],
   "source": [
    "# Importing necessary libraries\n",
    "import numpy as np\n",
    "import pandas as pd\n",
    "import matplotlib.pyplot as plt\n",
    "import seaborn as sns"
   ]
  },
  {
   "cell_type": "code",
   "execution_count": 127,
   "id": "572cdb0c-ef5f-4bcb-aa65-1e57de7b99b6",
   "metadata": {},
   "outputs": [],
   "source": [
    "df = pd.read_csv(\"netflix_titles.csv\")"
   ]
  },
  {
   "cell_type": "code",
   "execution_count": 129,
   "id": "0519a31e-8e15-44ce-a77e-063db24e0dae",
   "metadata": {},
   "outputs": [
    {
     "data": {
      "text/html": [
       "<div>\n",
       "<style scoped>\n",
       "    .dataframe tbody tr th:only-of-type {\n",
       "        vertical-align: middle;\n",
       "    }\n",
       "\n",
       "    .dataframe tbody tr th {\n",
       "        vertical-align: top;\n",
       "    }\n",
       "\n",
       "    .dataframe thead th {\n",
       "        text-align: right;\n",
       "    }\n",
       "</style>\n",
       "<table border=\"1\" class=\"dataframe\">\n",
       "  <thead>\n",
       "    <tr style=\"text-align: right;\">\n",
       "      <th></th>\n",
       "      <th>show_id</th>\n",
       "      <th>type</th>\n",
       "      <th>title</th>\n",
       "      <th>director</th>\n",
       "      <th>cast</th>\n",
       "      <th>country</th>\n",
       "      <th>date_added</th>\n",
       "      <th>release_year</th>\n",
       "      <th>rating</th>\n",
       "      <th>duration</th>\n",
       "      <th>listed_in</th>\n",
       "      <th>description</th>\n",
       "    </tr>\n",
       "  </thead>\n",
       "  <tbody>\n",
       "    <tr>\n",
       "      <th>1720</th>\n",
       "      <td>s1721</td>\n",
       "      <td>Movie</td>\n",
       "      <td>What We Wanted</td>\n",
       "      <td>Ulrike Kofler</td>\n",
       "      <td>Lavinia Wilson, Elyas M'Barek, Anna Unterberge...</td>\n",
       "      <td>Austria</td>\n",
       "      <td>November 11, 2020</td>\n",
       "      <td>2020</td>\n",
       "      <td>TV-MA</td>\n",
       "      <td>93 min</td>\n",
       "      <td>Dramas, International Movies</td>\n",
       "      <td>A couple facing fertility issues finds their m...</td>\n",
       "    </tr>\n",
       "    <tr>\n",
       "      <th>5107</th>\n",
       "      <td>s5108</td>\n",
       "      <td>Movie</td>\n",
       "      <td>Mr. Roosevelt</td>\n",
       "      <td>Noël Wells</td>\n",
       "      <td>Noël Wells, Nick Thune, Britt Lower, Daniella ...</td>\n",
       "      <td>United States</td>\n",
       "      <td>December 26, 2017</td>\n",
       "      <td>2017</td>\n",
       "      <td>TV-MA</td>\n",
       "      <td>91 min</td>\n",
       "      <td>Comedies, Independent Movies</td>\n",
       "      <td>A struggling comedian returns to Austin, Texas...</td>\n",
       "    </tr>\n",
       "    <tr>\n",
       "      <th>5943</th>\n",
       "      <td>s5944</td>\n",
       "      <td>Movie</td>\n",
       "      <td>Adam: His Song Continues</td>\n",
       "      <td>Robert Markowitz</td>\n",
       "      <td>Daniel J. Travanti, JoBeth Williams, Richard M...</td>\n",
       "      <td>United States</td>\n",
       "      <td>October 1, 2011</td>\n",
       "      <td>1986</td>\n",
       "      <td>TV-MA</td>\n",
       "      <td>96 min</td>\n",
       "      <td>Dramas</td>\n",
       "      <td>After their child was abducted and murdered, J...</td>\n",
       "    </tr>\n",
       "    <tr>\n",
       "      <th>4399</th>\n",
       "      <td>s4400</td>\n",
       "      <td>TV Show</td>\n",
       "      <td>Warrior</td>\n",
       "      <td>NaN</td>\n",
       "      <td>Dar Salim, Danica Curcic, Lars Ranthe, Marco I...</td>\n",
       "      <td>Denmark</td>\n",
       "      <td>November 13, 2018</td>\n",
       "      <td>2018</td>\n",
       "      <td>TV-MA</td>\n",
       "      <td>1 Season</td>\n",
       "      <td>Crime TV Shows, International TV Shows, TV Dramas</td>\n",
       "      <td>A war veteran plagued by guilt over his final ...</td>\n",
       "    </tr>\n",
       "    <tr>\n",
       "      <th>7941</th>\n",
       "      <td>s7942</td>\n",
       "      <td>Movie</td>\n",
       "      <td>Satan &amp; Adam</td>\n",
       "      <td>V. Scott Balcerek</td>\n",
       "      <td>Sterling Magee, Adam Gussow</td>\n",
       "      <td>United States</td>\n",
       "      <td>June 1, 2019</td>\n",
       "      <td>2018</td>\n",
       "      <td>TV-MA</td>\n",
       "      <td>78 min</td>\n",
       "      <td>Documentaries, Music &amp; Musicals</td>\n",
       "      <td>An aging blues guitarist and a grad student fo...</td>\n",
       "    </tr>\n",
       "  </tbody>\n",
       "</table>\n",
       "</div>"
      ],
      "text/plain": [
       "     show_id     type                     title           director  \\\n",
       "1720   s1721    Movie            What We Wanted      Ulrike Kofler   \n",
       "5107   s5108    Movie             Mr. Roosevelt         Noël Wells   \n",
       "5943   s5944    Movie  Adam: His Song Continues   Robert Markowitz   \n",
       "4399   s4400  TV Show                   Warrior                NaN   \n",
       "7941   s7942    Movie              Satan & Adam  V. Scott Balcerek   \n",
       "\n",
       "                                                   cast        country  \\\n",
       "1720  Lavinia Wilson, Elyas M'Barek, Anna Unterberge...        Austria   \n",
       "5107  Noël Wells, Nick Thune, Britt Lower, Daniella ...  United States   \n",
       "5943  Daniel J. Travanti, JoBeth Williams, Richard M...  United States   \n",
       "4399  Dar Salim, Danica Curcic, Lars Ranthe, Marco I...        Denmark   \n",
       "7941                        Sterling Magee, Adam Gussow  United States   \n",
       "\n",
       "             date_added  release_year rating  duration  \\\n",
       "1720  November 11, 2020          2020  TV-MA    93 min   \n",
       "5107  December 26, 2017          2017  TV-MA    91 min   \n",
       "5943    October 1, 2011          1986  TV-MA    96 min   \n",
       "4399  November 13, 2018          2018  TV-MA  1 Season   \n",
       "7941       June 1, 2019          2018  TV-MA    78 min   \n",
       "\n",
       "                                              listed_in  \\\n",
       "1720                       Dramas, International Movies   \n",
       "5107                       Comedies, Independent Movies   \n",
       "5943                                             Dramas   \n",
       "4399  Crime TV Shows, International TV Shows, TV Dramas   \n",
       "7941                    Documentaries, Music & Musicals   \n",
       "\n",
       "                                            description  \n",
       "1720  A couple facing fertility issues finds their m...  \n",
       "5107  A struggling comedian returns to Austin, Texas...  \n",
       "5943  After their child was abducted and murdered, J...  \n",
       "4399  A war veteran plagued by guilt over his final ...  \n",
       "7941  An aging blues guitarist and a grad student fo...  "
      ]
     },
     "execution_count": 129,
     "metadata": {},
     "output_type": "execute_result"
    }
   ],
   "source": [
    "df.sample(5)"
   ]
  },
  {
   "cell_type": "code",
   "execution_count": 131,
   "id": "adfcfcca-9fbc-4f49-b50d-e31e241480ad",
   "metadata": {},
   "outputs": [],
   "source": [
    "df.drop([\"show_id\",\"description\"],axis=1,inplace=True)"
   ]
  },
  {
   "cell_type": "code",
   "execution_count": 133,
   "id": "627cec24-5a6e-4b09-b5cd-339ef05324e0",
   "metadata": {},
   "outputs": [
    {
     "data": {
      "text/html": [
       "<div>\n",
       "<style scoped>\n",
       "    .dataframe tbody tr th:only-of-type {\n",
       "        vertical-align: middle;\n",
       "    }\n",
       "\n",
       "    .dataframe tbody tr th {\n",
       "        vertical-align: top;\n",
       "    }\n",
       "\n",
       "    .dataframe thead th {\n",
       "        text-align: right;\n",
       "    }\n",
       "</style>\n",
       "<table border=\"1\" class=\"dataframe\">\n",
       "  <thead>\n",
       "    <tr style=\"text-align: right;\">\n",
       "      <th></th>\n",
       "      <th>type</th>\n",
       "      <th>title</th>\n",
       "      <th>director</th>\n",
       "      <th>cast</th>\n",
       "      <th>country</th>\n",
       "      <th>date_added</th>\n",
       "      <th>release_year</th>\n",
       "      <th>rating</th>\n",
       "      <th>duration</th>\n",
       "      <th>listed_in</th>\n",
       "    </tr>\n",
       "  </thead>\n",
       "  <tbody>\n",
       "    <tr>\n",
       "      <th>1782</th>\n",
       "      <td>TV Show</td>\n",
       "      <td>Suburra: Blood on Rome</td>\n",
       "      <td>NaN</td>\n",
       "      <td>Alessandro Borghi, Giacomo Ferrara, Eduardo Va...</td>\n",
       "      <td>Italy</td>\n",
       "      <td>October 30, 2020</td>\n",
       "      <td>2020</td>\n",
       "      <td>TV-MA</td>\n",
       "      <td>3 Seasons</td>\n",
       "      <td>Crime TV Shows, International TV Shows, TV Dramas</td>\n",
       "    </tr>\n",
       "    <tr>\n",
       "      <th>592</th>\n",
       "      <td>Movie</td>\n",
       "      <td>She's Out of My League</td>\n",
       "      <td>Jim Field Smith</td>\n",
       "      <td>Jay Baruchel, Alice Eve, T.J. Miller, Mike Vog...</td>\n",
       "      <td>United States</td>\n",
       "      <td>July 1, 2021</td>\n",
       "      <td>2010</td>\n",
       "      <td>R</td>\n",
       "      <td>106 min</td>\n",
       "      <td>Comedies, Romantic Movies</td>\n",
       "    </tr>\n",
       "    <tr>\n",
       "      <th>931</th>\n",
       "      <td>Movie</td>\n",
       "      <td>Fun with Dick &amp; Jane</td>\n",
       "      <td>Dean Parisot</td>\n",
       "      <td>Jim Carrey, Téa Leoni, Alec Baldwin, Richard J...</td>\n",
       "      <td>United States</td>\n",
       "      <td>May 1, 2021</td>\n",
       "      <td>2005</td>\n",
       "      <td>PG-13</td>\n",
       "      <td>91 min</td>\n",
       "      <td>Comedies</td>\n",
       "    </tr>\n",
       "    <tr>\n",
       "      <th>6656</th>\n",
       "      <td>Movie</td>\n",
       "      <td>E-Cigarettes: Miracle or Menace?</td>\n",
       "      <td>Emma Hatherley</td>\n",
       "      <td>Michael Mosley</td>\n",
       "      <td>United Kingdom</td>\n",
       "      <td>February 1, 2019</td>\n",
       "      <td>2016</td>\n",
       "      <td>TV-14</td>\n",
       "      <td>52 min</td>\n",
       "      <td>Documentaries</td>\n",
       "    </tr>\n",
       "    <tr>\n",
       "      <th>1291</th>\n",
       "      <td>Movie</td>\n",
       "      <td>Love</td>\n",
       "      <td>Khalid Rahman</td>\n",
       "      <td>Shine Tom Chacko, Rajisha Vijayan, Gokulan, Su...</td>\n",
       "      <td>India</td>\n",
       "      <td>February 19, 2021</td>\n",
       "      <td>2020</td>\n",
       "      <td>TV-14</td>\n",
       "      <td>91 min</td>\n",
       "      <td>Dramas, Independent Movies, International Movies</td>\n",
       "    </tr>\n",
       "  </tbody>\n",
       "</table>\n",
       "</div>"
      ],
      "text/plain": [
       "         type                             title         director  \\\n",
       "1782  TV Show            Suburra: Blood on Rome              NaN   \n",
       "592     Movie            She's Out of My League  Jim Field Smith   \n",
       "931     Movie              Fun with Dick & Jane     Dean Parisot   \n",
       "6656    Movie  E-Cigarettes: Miracle or Menace?   Emma Hatherley   \n",
       "1291    Movie                              Love    Khalid Rahman   \n",
       "\n",
       "                                                   cast         country  \\\n",
       "1782  Alessandro Borghi, Giacomo Ferrara, Eduardo Va...           Italy   \n",
       "592   Jay Baruchel, Alice Eve, T.J. Miller, Mike Vog...   United States   \n",
       "931   Jim Carrey, Téa Leoni, Alec Baldwin, Richard J...   United States   \n",
       "6656                                     Michael Mosley  United Kingdom   \n",
       "1291  Shine Tom Chacko, Rajisha Vijayan, Gokulan, Su...           India   \n",
       "\n",
       "             date_added  release_year rating   duration  \\\n",
       "1782   October 30, 2020          2020  TV-MA  3 Seasons   \n",
       "592        July 1, 2021          2010      R    106 min   \n",
       "931         May 1, 2021          2005  PG-13     91 min   \n",
       "6656   February 1, 2019          2016  TV-14     52 min   \n",
       "1291  February 19, 2021          2020  TV-14     91 min   \n",
       "\n",
       "                                              listed_in  \n",
       "1782  Crime TV Shows, International TV Shows, TV Dramas  \n",
       "592                           Comedies, Romantic Movies  \n",
       "931                                            Comedies  \n",
       "6656                                      Documentaries  \n",
       "1291   Dramas, Independent Movies, International Movies  "
      ]
     },
     "execution_count": 133,
     "metadata": {},
     "output_type": "execute_result"
    }
   ],
   "source": [
    "df.sample(5)"
   ]
  },
  {
   "cell_type": "code",
   "execution_count": 135,
   "id": "094855cf-82d2-4497-9d71-0db18d0253a6",
   "metadata": {},
   "outputs": [
    {
     "data": {
      "text/plain": [
       "(8807, 10)"
      ]
     },
     "execution_count": 135,
     "metadata": {},
     "output_type": "execute_result"
    }
   ],
   "source": [
    "df.shape\n",
    "# (rows, columns)"
   ]
  },
  {
   "cell_type": "code",
   "execution_count": 137,
   "id": "76518da0-363a-4975-b035-37ed526d015f",
   "metadata": {},
   "outputs": [
    {
     "data": {
      "text/plain": [
       "88070"
      ]
     },
     "execution_count": 137,
     "metadata": {},
     "output_type": "execute_result"
    }
   ],
   "source": [
    "df.size"
   ]
  },
  {
   "cell_type": "code",
   "execution_count": 139,
   "id": "cbbf965c-c2f0-4b81-9014-1747b6b5e070",
   "metadata": {},
   "outputs": [
    {
     "data": {
      "text/plain": [
       "RangeIndex(start=0, stop=8807, step=1)"
      ]
     },
     "execution_count": 139,
     "metadata": {},
     "output_type": "execute_result"
    }
   ],
   "source": [
    "df.index"
   ]
  },
  {
   "cell_type": "code",
   "execution_count": 141,
   "id": "1a8e903c-e7c5-4225-ada1-ba8510744a9b",
   "metadata": {},
   "outputs": [
    {
     "data": {
      "text/plain": [
       "Index(['type', 'title', 'director', 'cast', 'country', 'date_added',\n",
       "       'release_year', 'rating', 'duration', 'listed_in'],\n",
       "      dtype='object')"
      ]
     },
     "execution_count": 141,
     "metadata": {},
     "output_type": "execute_result"
    }
   ],
   "source": [
    "df.columns"
   ]
  },
  {
   "cell_type": "code",
   "execution_count": 143,
   "id": "70cbc37e-58c8-4922-8f59-d31ee94dcec4",
   "metadata": {},
   "outputs": [
    {
     "name": "stdout",
     "output_type": "stream",
     "text": [
      "<class 'pandas.core.frame.DataFrame'>\n",
      "RangeIndex: 8807 entries, 0 to 8806\n",
      "Data columns (total 10 columns):\n",
      " #   Column        Non-Null Count  Dtype \n",
      "---  ------        --------------  ----- \n",
      " 0   type          8807 non-null   object\n",
      " 1   title         8807 non-null   object\n",
      " 2   director      6173 non-null   object\n",
      " 3   cast          7982 non-null   object\n",
      " 4   country       7976 non-null   object\n",
      " 5   date_added    8797 non-null   object\n",
      " 6   release_year  8807 non-null   int64 \n",
      " 7   rating        8803 non-null   object\n",
      " 8   duration      8804 non-null   object\n",
      " 9   listed_in     8807 non-null   object\n",
      "dtypes: int64(1), object(9)\n",
      "memory usage: 688.2+ KB\n"
     ]
    }
   ],
   "source": [
    "df.info()\n"
   ]
  },
  {
   "cell_type": "code",
   "execution_count": 145,
   "id": "4a614f0e-51ea-4b14-8605-a972c6b58e4e",
   "metadata": {},
   "outputs": [
    {
     "data": {
      "text/plain": [
       "type               0\n",
       "title              0\n",
       "director        2634\n",
       "cast             825\n",
       "country          831\n",
       "date_added        10\n",
       "release_year       0\n",
       "rating             4\n",
       "duration           3\n",
       "listed_in          0\n",
       "dtype: int64"
      ]
     },
     "execution_count": 145,
     "metadata": {},
     "output_type": "execute_result"
    }
   ],
   "source": [
    "df.isna().sum()"
   ]
  },
  {
   "cell_type": "markdown",
   "id": "4842656b-c651-4794-b7ec-8992850bbda5",
   "metadata": {},
   "source": [
    "# Fill null values in country column"
   ]
  },
  {
   "cell_type": "code",
   "execution_count": 148,
   "id": "3de45439-aca6-4044-9d13-7465153dae24",
   "metadata": {},
   "outputs": [
    {
     "data": {
      "text/plain": [
       "country\n",
       "United States     2818\n",
       "India              972\n",
       "United Kingdom     419\n",
       "Name: count, dtype: int64"
      ]
     },
     "execution_count": 148,
     "metadata": {},
     "output_type": "execute_result"
    }
   ],
   "source": [
    "df[\"country\"].value_counts().head(3)"
   ]
  },
  {
   "cell_type": "code",
   "execution_count": 150,
   "id": "4dd174ee-6063-4cbf-a802-4e43f17470d1",
   "metadata": {},
   "outputs": [
    {
     "data": {
      "text/plain": [
       "'United States'"
      ]
     },
     "execution_count": 150,
     "metadata": {},
     "output_type": "execute_result"
    }
   ],
   "source": [
    "# find the mode of country column\n",
    "# most frequently occurring country in the data\n",
    "mode_country = df[\"country\"].mode()[0]\n",
    "mode_country"
   ]
  },
  {
   "cell_type": "code",
   "execution_count": 152,
   "id": "8012f1d7-9d35-4670-adbe-2e09cd954f56",
   "metadata": {},
   "outputs": [],
   "source": [
    "df[\"country\"] = df[\"country\"].fillna(mode_country)"
   ]
  },
  {
   "cell_type": "code",
   "execution_count": 154,
   "id": "7ffde368-646f-4088-be1e-60742eb5a995",
   "metadata": {},
   "outputs": [
    {
     "data": {
      "text/plain": [
       "0"
      ]
     },
     "execution_count": 154,
     "metadata": {},
     "output_type": "execute_result"
    }
   ],
   "source": [
    "df[\"country\"].isna().sum()"
   ]
  },
  {
   "cell_type": "markdown",
   "id": "dcd50ac7-8723-40b2-a8bf-c8dff6ae1e02",
   "metadata": {},
   "source": [
    "# Fill null values in date_added column"
   ]
  },
  {
   "cell_type": "code",
   "execution_count": 157,
   "id": "cece2434-8b8e-4a0f-82cf-c9c4c9c5240f",
   "metadata": {},
   "outputs": [
    {
     "data": {
      "text/plain": [
       "date_added\n",
       "January 1, 2020     109\n",
       "November 1, 2019     89\n",
       "March 1, 2018        75\n",
       "Name: count, dtype: int64"
      ]
     },
     "execution_count": 157,
     "metadata": {},
     "output_type": "execute_result"
    }
   ],
   "source": [
    "df[\"date_added\"].value_counts().head(3)"
   ]
  },
  {
   "cell_type": "code",
   "execution_count": 159,
   "id": "d7f0dfd4-f027-4f15-a033-01375401a947",
   "metadata": {},
   "outputs": [
    {
     "data": {
      "text/plain": [
       "'January 1, 2020'"
      ]
     },
     "execution_count": 159,
     "metadata": {},
     "output_type": "execute_result"
    }
   ],
   "source": [
    "mode_date_added = df[\"date_added\"].mode()[0]\n",
    "mode_date_added"
   ]
  },
  {
   "cell_type": "code",
   "execution_count": 161,
   "id": "cc64b74c-4380-47b2-a4d2-7585de64c545",
   "metadata": {},
   "outputs": [],
   "source": [
    "df[\"date_added\"] = df[\"date_added\"].fillna(mode_date_added)"
   ]
  },
  {
   "cell_type": "code",
   "execution_count": 163,
   "id": "d09187e0-2f4b-41ba-8cee-10d102686f10",
   "metadata": {},
   "outputs": [
    {
     "data": {
      "text/plain": [
       "0"
      ]
     },
     "execution_count": 163,
     "metadata": {},
     "output_type": "execute_result"
    }
   ],
   "source": [
    "df[\"date_added\"].isna().sum()"
   ]
  },
  {
   "cell_type": "markdown",
   "id": "1ac03164-367e-4a00-95e4-77a344a87b65",
   "metadata": {},
   "source": [
    "# Fill null values in rating column"
   ]
  },
  {
   "cell_type": "code",
   "execution_count": 166,
   "id": "c026246e-fd14-4a73-8490-6482c841ffe3",
   "metadata": {},
   "outputs": [
    {
     "data": {
      "text/plain": [
       "rating\n",
       "TV-MA    3207\n",
       "TV-14    2160\n",
       "TV-PG     863\n",
       "Name: count, dtype: int64"
      ]
     },
     "execution_count": 166,
     "metadata": {},
     "output_type": "execute_result"
    }
   ],
   "source": [
    "df[\"rating\"].value_counts().head(3)"
   ]
  },
  {
   "cell_type": "code",
   "execution_count": 168,
   "id": "aa50eade-724a-403f-b4dd-55290e9fdc83",
   "metadata": {},
   "outputs": [
    {
     "data": {
      "text/plain": [
       "'TV-MA'"
      ]
     },
     "execution_count": 168,
     "metadata": {},
     "output_type": "execute_result"
    }
   ],
   "source": [
    "mode_rating = df[\"rating\"].mode()[0]\n",
    "mode_rating"
   ]
  },
  {
   "cell_type": "code",
   "execution_count": 170,
   "id": "93deb806-4b8c-49d1-aea5-5d679f9c5e5d",
   "metadata": {},
   "outputs": [],
   "source": [
    "df[\"rating\"] = df[\"rating\"].fillna(mode_rating)"
   ]
  },
  {
   "cell_type": "code",
   "execution_count": 172,
   "id": "92dd54fd-84b6-47ea-8297-ff85c33aba78",
   "metadata": {},
   "outputs": [
    {
     "data": {
      "text/plain": [
       "0"
      ]
     },
     "execution_count": 172,
     "metadata": {},
     "output_type": "execute_result"
    }
   ],
   "source": [
    "df[\"rating\"].isna().sum()"
   ]
  },
  {
   "cell_type": "markdown",
   "id": "7aada02b-565d-4d67-926e-251db1465524",
   "metadata": {},
   "source": [
    "# Fill null values in duration column"
   ]
  },
  {
   "cell_type": "code",
   "execution_count": 176,
   "id": "05036797-8760-4668-adbc-fc38dd1c02fe",
   "metadata": {},
   "outputs": [
    {
     "data": {
      "text/plain": [
       "duration\n",
       "1 Season     1793\n",
       "2 Seasons     425\n",
       "3 Seasons     199\n",
       "Name: count, dtype: int64"
      ]
     },
     "execution_count": 176,
     "metadata": {},
     "output_type": "execute_result"
    }
   ],
   "source": [
    "df[\"duration\"].value_counts().head(3)"
   ]
  },
  {
   "cell_type": "code",
   "execution_count": 178,
   "id": "7dac337b-45aa-4464-8935-c02e6c85040a",
   "metadata": {},
   "outputs": [
    {
     "data": {
      "text/plain": [
       "'1 Season'"
      ]
     },
     "execution_count": 178,
     "metadata": {},
     "output_type": "execute_result"
    }
   ],
   "source": [
    "mode_duration = df[\"duration\"].mode()[0]\n",
    "mode_duration"
   ]
  },
  {
   "cell_type": "code",
   "execution_count": 180,
   "id": "aece8414-eeaf-4665-b312-32c6a0a725dc",
   "metadata": {},
   "outputs": [],
   "source": [
    "df[\"duration\"] = df[\"duration\"].fillna(mode_duration)"
   ]
  },
  {
   "cell_type": "code",
   "execution_count": 182,
   "id": "02492dc8-665b-4909-9a5d-4c08f760fb84",
   "metadata": {},
   "outputs": [
    {
     "data": {
      "text/plain": [
       "0"
      ]
     },
     "execution_count": 182,
     "metadata": {},
     "output_type": "execute_result"
    }
   ],
   "source": [
    "df[\"duration\"].isna().sum()"
   ]
  },
  {
   "cell_type": "markdown",
   "id": "8fc8ee1e-cf79-4afc-afc3-ca2fa4cdeb4f",
   "metadata": {},
   "source": [
    "# Fill null values in director column"
   ]
  },
  {
   "cell_type": "code",
   "execution_count": 185,
   "id": "5b9598c9-4615-4420-bc2b-7826380ef2a1",
   "metadata": {},
   "outputs": [],
   "source": [
    "df[\"director\"] = df[\"director\"].fillna(\"Not mentioned\")"
   ]
  },
  {
   "cell_type": "code",
   "execution_count": 187,
   "id": "b7f2c51b-ca36-41fe-a527-64a82e956161",
   "metadata": {},
   "outputs": [
    {
     "data": {
      "text/plain": [
       "0"
      ]
     },
     "execution_count": 187,
     "metadata": {},
     "output_type": "execute_result"
    }
   ],
   "source": [
    "df[\"director\"].isna().sum()"
   ]
  },
  {
   "cell_type": "markdown",
   "id": "a0d8d5a0-a16e-40f0-b964-fc63d26cf8d3",
   "metadata": {},
   "source": [
    "# Fill null values in cast column"
   ]
  },
  {
   "cell_type": "code",
   "execution_count": 190,
   "id": "d8d48122-0fc8-4625-b582-925455da90a2",
   "metadata": {},
   "outputs": [],
   "source": [
    "df[\"cast\"] = df[\"cast\"].fillna(\"Not mentioned\")"
   ]
  },
  {
   "cell_type": "code",
   "execution_count": 192,
   "id": "66398728-a94c-4c40-a5a7-930fa6691102",
   "metadata": {},
   "outputs": [
    {
     "data": {
      "text/plain": [
       "0"
      ]
     },
     "execution_count": 192,
     "metadata": {},
     "output_type": "execute_result"
    }
   ],
   "source": [
    "df[\"cast\"].isna().sum()"
   ]
  },
  {
   "cell_type": "code",
   "execution_count": 194,
   "id": "657e02fd-d6b9-4b89-87f8-99a1fb22c2b8",
   "metadata": {},
   "outputs": [
    {
     "data": {
      "text/plain": [
       "type            0\n",
       "title           0\n",
       "director        0\n",
       "cast            0\n",
       "country         0\n",
       "date_added      0\n",
       "release_year    0\n",
       "rating          0\n",
       "duration        0\n",
       "listed_in       0\n",
       "dtype: int64"
      ]
     },
     "execution_count": 194,
     "metadata": {},
     "output_type": "execute_result"
    }
   ],
   "source": [
    "df.isna().sum()"
   ]
  },
  {
   "cell_type": "markdown",
   "id": "d95eade8-ba1a-4b66-ab53-4f74837de802",
   "metadata": {},
   "source": [
    "# Check if data is correct"
   ]
  },
  {
   "cell_type": "code",
   "execution_count": 197,
   "id": "54ccd2ab-17bc-44e4-bb70-72ee58eb9c58",
   "metadata": {},
   "outputs": [
    {
     "data": {
      "text/plain": [
       "array(['PG-13', 'TV-MA', 'PG', 'TV-14', 'TV-PG', 'TV-Y', 'TV-Y7', 'R',\n",
       "       'TV-G', 'G', 'NC-17', '74 min', '84 min', '66 min', 'NR',\n",
       "       'TV-Y7-FV', 'UR'], dtype=object)"
      ]
     },
     "execution_count": 197,
     "metadata": {},
     "output_type": "execute_result"
    }
   ],
   "source": [
    "df[\"rating\"].unique()"
   ]
  },
  {
   "cell_type": "code",
   "execution_count": 199,
   "id": "be8689d4-c525-4dfd-b780-b7ed8825860f",
   "metadata": {},
   "outputs": [],
   "source": [
    "df = df[~df[\"rating\"].str.contains(\"min\")]"
   ]
  },
  {
   "cell_type": "code",
   "execution_count": 201,
   "id": "0bfa26e2-ca81-4d43-965e-ebfb1a8f99c5",
   "metadata": {},
   "outputs": [
    {
     "data": {
      "text/plain": [
       "array(['PG-13', 'TV-MA', 'PG', 'TV-14', 'TV-PG', 'TV-Y', 'TV-Y7', 'R',\n",
       "       'TV-G', 'G', 'NC-17', 'NR', 'TV-Y7-FV', 'UR'], dtype=object)"
      ]
     },
     "execution_count": 201,
     "metadata": {},
     "output_type": "execute_result"
    }
   ],
   "source": [
    "df[\"rating\"].unique()"
   ]
  },
  {
   "cell_type": "markdown",
   "id": "96169d64-f057-4e6b-b6f6-edd5533f1657",
   "metadata": {},
   "source": [
    "# Fix date_added: remove commas"
   ]
  },
  {
   "cell_type": "code",
   "execution_count": 204,
   "id": "e385b6bb-a836-436c-8013-c3f65979e4c6",
   "metadata": {},
   "outputs": [
    {
     "data": {
      "text/plain": [
       "array(['September 25, 2021', 'September 24, 2021', 'September 23, 2021',\n",
       "       ..., 'December 6, 2018', 'March 9, 2016', 'January 11, 2020'],\n",
       "      dtype=object)"
      ]
     },
     "execution_count": 204,
     "metadata": {},
     "output_type": "execute_result"
    }
   ],
   "source": [
    "df[\"date_added\"].unique()"
   ]
  },
  {
   "cell_type": "code",
   "execution_count": 206,
   "id": "c634350f-b240-45f0-9af3-6112d352d817",
   "metadata": {},
   "outputs": [],
   "source": [
    "df[\"date_added\"] = df[\"date_added\"].str.replace(\",\",\"\")"
   ]
  },
  {
   "cell_type": "code",
   "execution_count": 208,
   "id": "4c9209a4-fb76-4830-87ab-0394cd582e7c",
   "metadata": {},
   "outputs": [
    {
     "data": {
      "text/plain": [
       "array(['September 25 2021', 'September 24 2021', 'September 23 2021', ...,\n",
       "       'December 6 2018', 'March 9 2016', 'January 11 2020'], dtype=object)"
      ]
     },
     "execution_count": 208,
     "metadata": {},
     "output_type": "execute_result"
    }
   ],
   "source": [
    "df[\"date_added\"].unique()"
   ]
  },
  {
   "cell_type": "code",
   "execution_count": 210,
   "id": "58917131-94ba-4843-a01c-1846f30f8640",
   "metadata": {},
   "outputs": [],
   "source": [
    "df[\"date_added\"] = pd.to_datetime(df[\"date_added\"], format=\"mixed\")"
   ]
  },
  {
   "cell_type": "code",
   "execution_count": 212,
   "id": "4a5fc86e-28aa-46c5-9a92-2fe7935623df",
   "metadata": {},
   "outputs": [
    {
     "data": {
      "text/plain": [
       "<DatetimeArray>\n",
       "['2021-09-25 00:00:00', '2021-09-24 00:00:00', '2021-09-23 00:00:00',\n",
       " '2021-09-22 00:00:00', '2021-09-21 00:00:00', '2021-09-20 00:00:00',\n",
       " '2021-09-19 00:00:00', '2021-09-17 00:00:00', '2021-09-16 00:00:00',\n",
       " '2021-09-15 00:00:00',\n",
       " ...\n",
       " '2018-09-27 00:00:00', '2017-03-23 00:00:00', '2016-12-25 00:00:00',\n",
       " '2016-11-30 00:00:00', '2017-10-23 00:00:00', '2017-11-04 00:00:00',\n",
       " '2015-08-05 00:00:00', '2018-12-06 00:00:00', '2016-03-09 00:00:00',\n",
       " '2020-01-11 00:00:00']\n",
       "Length: 1714, dtype: datetime64[ns]"
      ]
     },
     "execution_count": 212,
     "metadata": {},
     "output_type": "execute_result"
    }
   ],
   "source": [
    "df[\"date_added\"].unique()"
   ]
  },
  {
   "cell_type": "code",
   "execution_count": 214,
   "id": "905e64fa-82b1-459b-b7bc-2860c4de8835",
   "metadata": {},
   "outputs": [
    {
     "data": {
      "text/html": [
       "<div>\n",
       "<style scoped>\n",
       "    .dataframe tbody tr th:only-of-type {\n",
       "        vertical-align: middle;\n",
       "    }\n",
       "\n",
       "    .dataframe tbody tr th {\n",
       "        vertical-align: top;\n",
       "    }\n",
       "\n",
       "    .dataframe thead th {\n",
       "        text-align: right;\n",
       "    }\n",
       "</style>\n",
       "<table border=\"1\" class=\"dataframe\">\n",
       "  <thead>\n",
       "    <tr style=\"text-align: right;\">\n",
       "      <th></th>\n",
       "      <th>type</th>\n",
       "      <th>title</th>\n",
       "      <th>director</th>\n",
       "      <th>cast</th>\n",
       "      <th>country</th>\n",
       "      <th>date_added</th>\n",
       "      <th>release_year</th>\n",
       "      <th>rating</th>\n",
       "      <th>duration</th>\n",
       "      <th>listed_in</th>\n",
       "    </tr>\n",
       "  </thead>\n",
       "  <tbody>\n",
       "    <tr>\n",
       "      <th>8024</th>\n",
       "      <td>Movie</td>\n",
       "      <td>Single</td>\n",
       "      <td>Raditya Dika</td>\n",
       "      <td>Raditya Dika, Annisa Rawles, Chandra Liow, Pan...</td>\n",
       "      <td>Indonesia</td>\n",
       "      <td>2018-09-28</td>\n",
       "      <td>2015</td>\n",
       "      <td>TV-PG</td>\n",
       "      <td>127 min</td>\n",
       "      <td>Comedies, International Movies, Romantic Movies</td>\n",
       "    </tr>\n",
       "    <tr>\n",
       "      <th>7540</th>\n",
       "      <td>TV Show</td>\n",
       "      <td>My Life My Story</td>\n",
       "      <td>Not mentioned</td>\n",
       "      <td>RJ Anmol</td>\n",
       "      <td>United States</td>\n",
       "      <td>2017-11-01</td>\n",
       "      <td>2017</td>\n",
       "      <td>TV-14</td>\n",
       "      <td>1 Season</td>\n",
       "      <td>International TV Shows, Stand-Up Comedy &amp; Talk...</td>\n",
       "    </tr>\n",
       "    <tr>\n",
       "      <th>6030</th>\n",
       "      <td>Movie</td>\n",
       "      <td>A Bridge Too Far</td>\n",
       "      <td>Richard Attenborough</td>\n",
       "      <td>Dirk Bogarde, James Caan, Michael Caine, Sean ...</td>\n",
       "      <td>United States, United Kingdom</td>\n",
       "      <td>2020-07-01</td>\n",
       "      <td>1977</td>\n",
       "      <td>PG</td>\n",
       "      <td>176 min</td>\n",
       "      <td>Action &amp; Adventure, Classic Movies, Dramas</td>\n",
       "    </tr>\n",
       "    <tr>\n",
       "      <th>1805</th>\n",
       "      <td>Movie</td>\n",
       "      <td>Bending the Arc</td>\n",
       "      <td>Kief Davidson, Pedro Kos</td>\n",
       "      <td>Not mentioned</td>\n",
       "      <td>United States</td>\n",
       "      <td>2020-10-22</td>\n",
       "      <td>2017</td>\n",
       "      <td>TV-MA</td>\n",
       "      <td>102 min</td>\n",
       "      <td>Documentaries</td>\n",
       "    </tr>\n",
       "    <tr>\n",
       "      <th>2987</th>\n",
       "      <td>Movie</td>\n",
       "      <td>Vir Das: For India</td>\n",
       "      <td>Vir Das, Ajay Bhuyan</td>\n",
       "      <td>Vir Das</td>\n",
       "      <td>India</td>\n",
       "      <td>2020-01-26</td>\n",
       "      <td>2020</td>\n",
       "      <td>TV-MA</td>\n",
       "      <td>76 min</td>\n",
       "      <td>Stand-Up Comedy</td>\n",
       "    </tr>\n",
       "  </tbody>\n",
       "</table>\n",
       "</div>"
      ],
      "text/plain": [
       "         type               title                  director  \\\n",
       "8024    Movie              Single              Raditya Dika   \n",
       "7540  TV Show    My Life My Story             Not mentioned   \n",
       "6030    Movie    A Bridge Too Far      Richard Attenborough   \n",
       "1805    Movie     Bending the Arc  Kief Davidson, Pedro Kos   \n",
       "2987    Movie  Vir Das: For India      Vir Das, Ajay Bhuyan   \n",
       "\n",
       "                                                   cast  \\\n",
       "8024  Raditya Dika, Annisa Rawles, Chandra Liow, Pan...   \n",
       "7540                                           RJ Anmol   \n",
       "6030  Dirk Bogarde, James Caan, Michael Caine, Sean ...   \n",
       "1805                                      Not mentioned   \n",
       "2987                                            Vir Das   \n",
       "\n",
       "                            country date_added  release_year rating  duration  \\\n",
       "8024                      Indonesia 2018-09-28          2015  TV-PG   127 min   \n",
       "7540                  United States 2017-11-01          2017  TV-14  1 Season   \n",
       "6030  United States, United Kingdom 2020-07-01          1977     PG   176 min   \n",
       "1805                  United States 2020-10-22          2017  TV-MA   102 min   \n",
       "2987                          India 2020-01-26          2020  TV-MA    76 min   \n",
       "\n",
       "                                              listed_in  \n",
       "8024    Comedies, International Movies, Romantic Movies  \n",
       "7540  International TV Shows, Stand-Up Comedy & Talk...  \n",
       "6030         Action & Adventure, Classic Movies, Dramas  \n",
       "1805                                      Documentaries  \n",
       "2987                                    Stand-Up Comedy  "
      ]
     },
     "execution_count": 214,
     "metadata": {},
     "output_type": "execute_result"
    }
   ],
   "source": [
    "df.sample(5)"
   ]
  },
  {
   "cell_type": "code",
   "execution_count": 216,
   "id": "44d28622-88fe-47f4-aa7f-4ff9e46752c2",
   "metadata": {},
   "outputs": [],
   "source": [
    "df[\"year\"] = df[\"date_added\"].dt.year"
   ]
  },
  {
   "cell_type": "code",
   "execution_count": 218,
   "id": "207bd443-54e0-41ba-9989-112cb7bb5af5",
   "metadata": {},
   "outputs": [
    {
     "data": {
      "text/html": [
       "<div>\n",
       "<style scoped>\n",
       "    .dataframe tbody tr th:only-of-type {\n",
       "        vertical-align: middle;\n",
       "    }\n",
       "\n",
       "    .dataframe tbody tr th {\n",
       "        vertical-align: top;\n",
       "    }\n",
       "\n",
       "    .dataframe thead th {\n",
       "        text-align: right;\n",
       "    }\n",
       "</style>\n",
       "<table border=\"1\" class=\"dataframe\">\n",
       "  <thead>\n",
       "    <tr style=\"text-align: right;\">\n",
       "      <th></th>\n",
       "      <th>type</th>\n",
       "      <th>title</th>\n",
       "      <th>director</th>\n",
       "      <th>cast</th>\n",
       "      <th>country</th>\n",
       "      <th>date_added</th>\n",
       "      <th>release_year</th>\n",
       "      <th>rating</th>\n",
       "      <th>duration</th>\n",
       "      <th>listed_in</th>\n",
       "      <th>year</th>\n",
       "    </tr>\n",
       "  </thead>\n",
       "  <tbody>\n",
       "    <tr>\n",
       "      <th>2837</th>\n",
       "      <td>Movie</td>\n",
       "      <td>Twin Murders: the Silence of the White City</td>\n",
       "      <td>Daniel Calparsoro</td>\n",
       "      <td>Belén Rueda, Javier Rey, Aura Garrido, Manolo ...</td>\n",
       "      <td>Spain</td>\n",
       "      <td>2020-03-06</td>\n",
       "      <td>2020</td>\n",
       "      <td>TV-MA</td>\n",
       "      <td>110 min</td>\n",
       "      <td>International Movies, Thrillers</td>\n",
       "      <td>2020</td>\n",
       "    </tr>\n",
       "    <tr>\n",
       "      <th>188</th>\n",
       "      <td>Movie</td>\n",
       "      <td>2 Alone in Paris</td>\n",
       "      <td>Ramzy Bedia, Éric Judor</td>\n",
       "      <td>Ramzy Bedia, Éric Judor, Benoît Magimel, Krist...</td>\n",
       "      <td>France</td>\n",
       "      <td>2021-08-28</td>\n",
       "      <td>2008</td>\n",
       "      <td>TV-MA</td>\n",
       "      <td>97 min</td>\n",
       "      <td>Comedies, International Movies</td>\n",
       "      <td>2021</td>\n",
       "    </tr>\n",
       "    <tr>\n",
       "      <th>2429</th>\n",
       "      <td>Movie</td>\n",
       "      <td>Can’t Complain</td>\n",
       "      <td>Ahmed Nader Galal</td>\n",
       "      <td>Ahmed Helmy, Menna Shalaby, Khaled El Sawy, Lo...</td>\n",
       "      <td>Egypt</td>\n",
       "      <td>2020-06-03</td>\n",
       "      <td>2007</td>\n",
       "      <td>TV-MA</td>\n",
       "      <td>114 min</td>\n",
       "      <td>Comedies, International Movies, Romantic Movies</td>\n",
       "      <td>2020</td>\n",
       "    </tr>\n",
       "    <tr>\n",
       "      <th>6446</th>\n",
       "      <td>Movie</td>\n",
       "      <td>Charlie and the Chocolate Factory</td>\n",
       "      <td>Tim Burton</td>\n",
       "      <td>Johnny Depp, Freddie Highmore, David Kelly, He...</td>\n",
       "      <td>United Kingdom, United States</td>\n",
       "      <td>2020-01-01</td>\n",
       "      <td>2005</td>\n",
       "      <td>PG</td>\n",
       "      <td>115 min</td>\n",
       "      <td>Children &amp; Family Movies, Comedies</td>\n",
       "      <td>2020</td>\n",
       "    </tr>\n",
       "    <tr>\n",
       "      <th>5190</th>\n",
       "      <td>Movie</td>\n",
       "      <td>The Bittersweet</td>\n",
       "      <td>D Ho</td>\n",
       "      <td>Min-ho Lee, Zhu Xuan</td>\n",
       "      <td>China</td>\n",
       "      <td>2017-11-01</td>\n",
       "      <td>2017</td>\n",
       "      <td>TV-MA</td>\n",
       "      <td>98 min</td>\n",
       "      <td>Action &amp; Adventure, Dramas, International Movies</td>\n",
       "      <td>2017</td>\n",
       "    </tr>\n",
       "  </tbody>\n",
       "</table>\n",
       "</div>"
      ],
      "text/plain": [
       "       type                                        title  \\\n",
       "2837  Movie  Twin Murders: the Silence of the White City   \n",
       "188   Movie                             2 Alone in Paris   \n",
       "2429  Movie                               Can’t Complain   \n",
       "6446  Movie            Charlie and the Chocolate Factory   \n",
       "5190  Movie                              The Bittersweet   \n",
       "\n",
       "                     director  \\\n",
       "2837        Daniel Calparsoro   \n",
       "188   Ramzy Bedia, Éric Judor   \n",
       "2429        Ahmed Nader Galal   \n",
       "6446               Tim Burton   \n",
       "5190                     D Ho   \n",
       "\n",
       "                                                   cast  \\\n",
       "2837  Belén Rueda, Javier Rey, Aura Garrido, Manolo ...   \n",
       "188   Ramzy Bedia, Éric Judor, Benoît Magimel, Krist...   \n",
       "2429  Ahmed Helmy, Menna Shalaby, Khaled El Sawy, Lo...   \n",
       "6446  Johnny Depp, Freddie Highmore, David Kelly, He...   \n",
       "5190                               Min-ho Lee, Zhu Xuan   \n",
       "\n",
       "                            country date_added  release_year rating duration  \\\n",
       "2837                          Spain 2020-03-06          2020  TV-MA  110 min   \n",
       "188                          France 2021-08-28          2008  TV-MA   97 min   \n",
       "2429                          Egypt 2020-06-03          2007  TV-MA  114 min   \n",
       "6446  United Kingdom, United States 2020-01-01          2005     PG  115 min   \n",
       "5190                          China 2017-11-01          2017  TV-MA   98 min   \n",
       "\n",
       "                                             listed_in  year  \n",
       "2837                   International Movies, Thrillers  2020  \n",
       "188                     Comedies, International Movies  2021  \n",
       "2429   Comedies, International Movies, Romantic Movies  2020  \n",
       "6446                Children & Family Movies, Comedies  2020  \n",
       "5190  Action & Adventure, Dramas, International Movies  2017  "
      ]
     },
     "execution_count": 218,
     "metadata": {},
     "output_type": "execute_result"
    }
   ],
   "source": [
    "df.sample(5)"
   ]
  },
  {
   "cell_type": "code",
   "execution_count": 220,
   "id": "2886f2a2-8499-467b-ab08-94d1d9a9d102",
   "metadata": {},
   "outputs": [],
   "source": [
    "df[\"month\"] = df[\"date_added\"].dt.month"
   ]
  },
  {
   "cell_type": "code",
   "execution_count": 222,
   "id": "b7d2f41f-4926-4061-98c9-56bc07d8c7aa",
   "metadata": {},
   "outputs": [],
   "source": [
    "df[\"day\"] = df[\"date_added\"].dt.day"
   ]
  },
  {
   "cell_type": "code",
   "execution_count": 224,
   "id": "209a8cc5-8caf-40f5-80d0-edf5b25ef554",
   "metadata": {},
   "outputs": [
    {
     "data": {
      "text/html": [
       "<div>\n",
       "<style scoped>\n",
       "    .dataframe tbody tr th:only-of-type {\n",
       "        vertical-align: middle;\n",
       "    }\n",
       "\n",
       "    .dataframe tbody tr th {\n",
       "        vertical-align: top;\n",
       "    }\n",
       "\n",
       "    .dataframe thead th {\n",
       "        text-align: right;\n",
       "    }\n",
       "</style>\n",
       "<table border=\"1\" class=\"dataframe\">\n",
       "  <thead>\n",
       "    <tr style=\"text-align: right;\">\n",
       "      <th></th>\n",
       "      <th>type</th>\n",
       "      <th>title</th>\n",
       "      <th>director</th>\n",
       "      <th>cast</th>\n",
       "      <th>country</th>\n",
       "      <th>date_added</th>\n",
       "      <th>release_year</th>\n",
       "      <th>rating</th>\n",
       "      <th>duration</th>\n",
       "      <th>listed_in</th>\n",
       "      <th>year</th>\n",
       "      <th>month</th>\n",
       "      <th>day</th>\n",
       "    </tr>\n",
       "  </thead>\n",
       "  <tbody>\n",
       "    <tr>\n",
       "      <th>3607</th>\n",
       "      <td>TV Show</td>\n",
       "      <td>Dollar</td>\n",
       "      <td>Not mentioned</td>\n",
       "      <td>Adel Karam, Amel Bouchoucha</td>\n",
       "      <td>Lebanon</td>\n",
       "      <td>2019-08-08</td>\n",
       "      <td>2019</td>\n",
       "      <td>TV-MA</td>\n",
       "      <td>1 Season</td>\n",
       "      <td>International TV Shows, TV Dramas</td>\n",
       "      <td>2019</td>\n",
       "      <td>8</td>\n",
       "      <td>8</td>\n",
       "    </tr>\n",
       "    <tr>\n",
       "      <th>3716</th>\n",
       "      <td>TV Show</td>\n",
       "      <td>Forest of Piano</td>\n",
       "      <td>Not mentioned</td>\n",
       "      <td>Soma Saito, Junichi Suwabe, Natsuki Hanae, Yui...</td>\n",
       "      <td>Japan</td>\n",
       "      <td>2019-06-24</td>\n",
       "      <td>2019</td>\n",
       "      <td>TV-14</td>\n",
       "      <td>2 Seasons</td>\n",
       "      <td>Anime Series, International TV Shows</td>\n",
       "      <td>2019</td>\n",
       "      <td>6</td>\n",
       "      <td>24</td>\n",
       "    </tr>\n",
       "    <tr>\n",
       "      <th>5836</th>\n",
       "      <td>TV Show</td>\n",
       "      <td>Marco Polo</td>\n",
       "      <td>Not mentioned</td>\n",
       "      <td>Lorenzo Richelmy, Benedict Wong, Chin Han, Joa...</td>\n",
       "      <td>United States</td>\n",
       "      <td>2016-07-01</td>\n",
       "      <td>2016</td>\n",
       "      <td>TV-MA</td>\n",
       "      <td>2 Seasons</td>\n",
       "      <td>TV Action &amp; Adventure, TV Dramas</td>\n",
       "      <td>2016</td>\n",
       "      <td>7</td>\n",
       "      <td>1</td>\n",
       "    </tr>\n",
       "    <tr>\n",
       "      <th>6484</th>\n",
       "      <td>Movie</td>\n",
       "      <td>Chupan Chupai</td>\n",
       "      <td>Mohsin Ali</td>\n",
       "      <td>Ahsan Khan, Neelam Muneer, Faizan Khawaja, Ali...</td>\n",
       "      <td>Pakistan</td>\n",
       "      <td>2019-01-15</td>\n",
       "      <td>2017</td>\n",
       "      <td>TV-14</td>\n",
       "      <td>118 min</td>\n",
       "      <td>Comedies, International Movies</td>\n",
       "      <td>2019</td>\n",
       "      <td>1</td>\n",
       "      <td>15</td>\n",
       "    </tr>\n",
       "    <tr>\n",
       "      <th>2795</th>\n",
       "      <td>TV Show</td>\n",
       "      <td>Tiger King: Murder, Mayhem and Madness</td>\n",
       "      <td>Eric Goode, Rebecca Chaiklin</td>\n",
       "      <td>Not mentioned</td>\n",
       "      <td>United States</td>\n",
       "      <td>2020-03-20</td>\n",
       "      <td>2020</td>\n",
       "      <td>TV-MA</td>\n",
       "      <td>1 Season</td>\n",
       "      <td>Crime TV Shows, Docuseries</td>\n",
       "      <td>2020</td>\n",
       "      <td>3</td>\n",
       "      <td>20</td>\n",
       "    </tr>\n",
       "  </tbody>\n",
       "</table>\n",
       "</div>"
      ],
      "text/plain": [
       "         type                                   title  \\\n",
       "3607  TV Show                                  Dollar   \n",
       "3716  TV Show                         Forest of Piano   \n",
       "5836  TV Show                              Marco Polo   \n",
       "6484    Movie                           Chupan Chupai   \n",
       "2795  TV Show  Tiger King: Murder, Mayhem and Madness   \n",
       "\n",
       "                          director  \\\n",
       "3607                 Not mentioned   \n",
       "3716                 Not mentioned   \n",
       "5836                 Not mentioned   \n",
       "6484                    Mohsin Ali   \n",
       "2795  Eric Goode, Rebecca Chaiklin   \n",
       "\n",
       "                                                   cast        country  \\\n",
       "3607                        Adel Karam, Amel Bouchoucha        Lebanon   \n",
       "3716  Soma Saito, Junichi Suwabe, Natsuki Hanae, Yui...          Japan   \n",
       "5836  Lorenzo Richelmy, Benedict Wong, Chin Han, Joa...  United States   \n",
       "6484  Ahsan Khan, Neelam Muneer, Faizan Khawaja, Ali...       Pakistan   \n",
       "2795                                      Not mentioned  United States   \n",
       "\n",
       "     date_added  release_year rating   duration  \\\n",
       "3607 2019-08-08          2019  TV-MA   1 Season   \n",
       "3716 2019-06-24          2019  TV-14  2 Seasons   \n",
       "5836 2016-07-01          2016  TV-MA  2 Seasons   \n",
       "6484 2019-01-15          2017  TV-14    118 min   \n",
       "2795 2020-03-20          2020  TV-MA   1 Season   \n",
       "\n",
       "                                 listed_in  year  month  day  \n",
       "3607     International TV Shows, TV Dramas  2019      8    8  \n",
       "3716  Anime Series, International TV Shows  2019      6   24  \n",
       "5836      TV Action & Adventure, TV Dramas  2016      7    1  \n",
       "6484        Comedies, International Movies  2019      1   15  \n",
       "2795            Crime TV Shows, Docuseries  2020      3   20  "
      ]
     },
     "execution_count": 224,
     "metadata": {},
     "output_type": "execute_result"
    }
   ],
   "source": [
    "df.sample(5)"
   ]
  },
  {
   "cell_type": "code",
   "execution_count": 226,
   "id": "846ea4cf-2097-4a28-aaf8-a112b612e068",
   "metadata": {},
   "outputs": [],
   "source": [
    "df[\"genre\"] = df[\"listed_in\"].str.split(\",\").str[0]"
   ]
  },
  {
   "cell_type": "code",
   "execution_count": 228,
   "id": "ac9eb667-bd98-4efc-a877-022f9eeb432f",
   "metadata": {},
   "outputs": [
    {
     "data": {
      "text/plain": [
       "genre\n",
       "Dramas                    1600\n",
       "Comedies                  1210\n",
       "Action & Adventure         859\n",
       "Documentaries              829\n",
       "International TV Shows     774\n",
       "Name: count, dtype: int64"
      ]
     },
     "execution_count": 228,
     "metadata": {},
     "output_type": "execute_result"
    }
   ],
   "source": [
    "df[\"genre\"].value_counts().head(5)"
   ]
  },
  {
   "cell_type": "markdown",
   "id": "03bd5f1e-9c30-4f70-9994-6ad4f3e96d6e",
   "metadata": {},
   "source": [
    "# Create \"lead actor\" column"
   ]
  },
  {
   "cell_type": "code",
   "execution_count": 234,
   "id": "8eb11ac0-bfe4-41d9-bbbb-84520c61c1d8",
   "metadata": {},
   "outputs": [
    {
     "data": {
      "text/plain": [
       "cast\n",
       "Not mentioned    825\n",
       "Name: count, dtype: int64"
      ]
     },
     "execution_count": 234,
     "metadata": {},
     "output_type": "execute_result"
    }
   ],
   "source": [
    "df[df[\"cast\"]==\"Not mentioned\"].value_counts(\"cast\").head()"
   ]
  },
  {
   "cell_type": "code",
   "execution_count": 238,
   "id": "d388dd56-7b18-4fc7-9f2b-e1c767492b22",
   "metadata": {},
   "outputs": [],
   "source": [
    "#remove rows where cast = Not mentioned\n",
    "df = df[df[\"cast\"] != \"Not mentioned\"]"
   ]
  },
  {
   "cell_type": "code",
   "execution_count": 240,
   "id": "f277d30a-3d5e-453f-aa73-6cbb5f26bd43",
   "metadata": {},
   "outputs": [
    {
     "data": {
      "text/plain": [
       "Series([], Name: count, dtype: int64)"
      ]
     },
     "execution_count": 240,
     "metadata": {},
     "output_type": "execute_result"
    }
   ],
   "source": [
    "df[df[\"cast\"]==\"Not mentioned\"].value_counts(\"cast\").head()"
   ]
  },
  {
   "cell_type": "code",
   "execution_count": 242,
   "id": "3a50e281-d56e-4517-a079-14fda5df1289",
   "metadata": {},
   "outputs": [],
   "source": [
    "df[\"lead_actor\"] = df[\"cast\"].str.split(\",\").str[0]"
   ]
  },
  {
   "cell_type": "code",
   "execution_count": 244,
   "id": "baffba81-e71b-4d9f-84bc-2f4f2041d463",
   "metadata": {},
   "outputs": [
    {
     "data": {
      "text/plain": [
       "lead_actor\n",
       "Shah Rukh Khan        26\n",
       "Akshay Kumar          23\n",
       "David Attenborough    20\n",
       "Adam Sandler          20\n",
       "Amitabh Bachchan      20\n",
       "Name: count, dtype: int64"
      ]
     },
     "execution_count": 244,
     "metadata": {},
     "output_type": "execute_result"
    }
   ],
   "source": [
    "df[\"lead_actor\"].value_counts().head(5)"
   ]
  },
  {
   "cell_type": "code",
   "execution_count": 246,
   "id": "ea450ef8-98ed-4c96-8d0b-98d101266d70",
   "metadata": {},
   "outputs": [
    {
     "data": {
      "text/html": [
       "<div>\n",
       "<style scoped>\n",
       "    .dataframe tbody tr th:only-of-type {\n",
       "        vertical-align: middle;\n",
       "    }\n",
       "\n",
       "    .dataframe tbody tr th {\n",
       "        vertical-align: top;\n",
       "    }\n",
       "\n",
       "    .dataframe thead th {\n",
       "        text-align: right;\n",
       "    }\n",
       "</style>\n",
       "<table border=\"1\" class=\"dataframe\">\n",
       "  <thead>\n",
       "    <tr style=\"text-align: right;\">\n",
       "      <th></th>\n",
       "      <th>type</th>\n",
       "      <th>title</th>\n",
       "      <th>director</th>\n",
       "      <th>cast</th>\n",
       "      <th>country</th>\n",
       "      <th>date_added</th>\n",
       "      <th>release_year</th>\n",
       "      <th>rating</th>\n",
       "      <th>duration</th>\n",
       "      <th>listed_in</th>\n",
       "      <th>year</th>\n",
       "      <th>month</th>\n",
       "      <th>day</th>\n",
       "      <th>genre</th>\n",
       "      <th>lead_actor</th>\n",
       "    </tr>\n",
       "  </thead>\n",
       "  <tbody>\n",
       "    <tr>\n",
       "      <th>4783</th>\n",
       "      <td>Movie</td>\n",
       "      <td>The Skin of the Wolf</td>\n",
       "      <td>Samu Fuentes</td>\n",
       "      <td>Mario Casas, Irene Escolar, Ruth Díaz</td>\n",
       "      <td>Spain</td>\n",
       "      <td>2018-07-06</td>\n",
       "      <td>2018</td>\n",
       "      <td>TV-MA</td>\n",
       "      <td>110 min</td>\n",
       "      <td>Dramas, Independent Movies, International Movies</td>\n",
       "      <td>2018</td>\n",
       "      <td>7</td>\n",
       "      <td>6</td>\n",
       "      <td>Dramas</td>\n",
       "      <td>Mario Casas</td>\n",
       "    </tr>\n",
       "    <tr>\n",
       "      <th>7933</th>\n",
       "      <td>Movie</td>\n",
       "      <td>Santa Claws</td>\n",
       "      <td>Glenn Miller</td>\n",
       "      <td>Nicola Lambo, Evan Boymel, John P. Fowler, Eri...</td>\n",
       "      <td>United States</td>\n",
       "      <td>2017-11-17</td>\n",
       "      <td>2014</td>\n",
       "      <td>TV-PG</td>\n",
       "      <td>86 min</td>\n",
       "      <td>Children &amp; Family Movies, Comedies</td>\n",
       "      <td>2017</td>\n",
       "      <td>11</td>\n",
       "      <td>17</td>\n",
       "      <td>Children &amp; Family Movies</td>\n",
       "      <td>Nicola Lambo</td>\n",
       "    </tr>\n",
       "    <tr>\n",
       "      <th>5306</th>\n",
       "      <td>Movie</td>\n",
       "      <td>Offline - Das leben ist kein bonuslevel</td>\n",
       "      <td>Florian Schnell</td>\n",
       "      <td>Moritz Jahn, Mala Emde, Ugur Ekeroglu, David S...</td>\n",
       "      <td>Germany</td>\n",
       "      <td>2017-09-01</td>\n",
       "      <td>2016</td>\n",
       "      <td>TV-MA</td>\n",
       "      <td>89 min</td>\n",
       "      <td>Action &amp; Adventure, Comedies, International Mo...</td>\n",
       "      <td>2017</td>\n",
       "      <td>9</td>\n",
       "      <td>1</td>\n",
       "      <td>Action &amp; Adventure</td>\n",
       "      <td>Moritz Jahn</td>\n",
       "    </tr>\n",
       "    <tr>\n",
       "      <th>5923</th>\n",
       "      <td>TV Show</td>\n",
       "      <td>Goosebumps</td>\n",
       "      <td>Not mentioned</td>\n",
       "      <td>R.L. Stine</td>\n",
       "      <td>Canada</td>\n",
       "      <td>2014-11-19</td>\n",
       "      <td>1998</td>\n",
       "      <td>TV-G</td>\n",
       "      <td>5 Seasons</td>\n",
       "      <td>Kids' TV, TV Thrillers</td>\n",
       "      <td>2014</td>\n",
       "      <td>11</td>\n",
       "      <td>19</td>\n",
       "      <td>Kids' TV</td>\n",
       "      <td>R.L. Stine</td>\n",
       "    </tr>\n",
       "    <tr>\n",
       "      <th>6593</th>\n",
       "      <td>Movie</td>\n",
       "      <td>Denis Leary: No Cure For Cancer</td>\n",
       "      <td>Ted Demme</td>\n",
       "      <td>Denis Leary</td>\n",
       "      <td>United States</td>\n",
       "      <td>2017-08-08</td>\n",
       "      <td>1992</td>\n",
       "      <td>R</td>\n",
       "      <td>62 min</td>\n",
       "      <td>Stand-Up Comedy</td>\n",
       "      <td>2017</td>\n",
       "      <td>8</td>\n",
       "      <td>8</td>\n",
       "      <td>Stand-Up Comedy</td>\n",
       "      <td>Denis Leary</td>\n",
       "    </tr>\n",
       "  </tbody>\n",
       "</table>\n",
       "</div>"
      ],
      "text/plain": [
       "         type                                    title         director  \\\n",
       "4783    Movie                     The Skin of the Wolf     Samu Fuentes   \n",
       "7933    Movie                              Santa Claws     Glenn Miller   \n",
       "5306    Movie  Offline - Das leben ist kein bonuslevel  Florian Schnell   \n",
       "5923  TV Show                               Goosebumps    Not mentioned   \n",
       "6593    Movie          Denis Leary: No Cure For Cancer        Ted Demme   \n",
       "\n",
       "                                                   cast        country  \\\n",
       "4783              Mario Casas, Irene Escolar, Ruth Díaz          Spain   \n",
       "7933  Nicola Lambo, Evan Boymel, John P. Fowler, Eri...  United States   \n",
       "5306  Moritz Jahn, Mala Emde, Ugur Ekeroglu, David S...        Germany   \n",
       "5923                                         R.L. Stine         Canada   \n",
       "6593                                        Denis Leary  United States   \n",
       "\n",
       "     date_added  release_year rating   duration  \\\n",
       "4783 2018-07-06          2018  TV-MA    110 min   \n",
       "7933 2017-11-17          2014  TV-PG     86 min   \n",
       "5306 2017-09-01          2016  TV-MA     89 min   \n",
       "5923 2014-11-19          1998   TV-G  5 Seasons   \n",
       "6593 2017-08-08          1992      R     62 min   \n",
       "\n",
       "                                              listed_in  year  month  day  \\\n",
       "4783   Dramas, Independent Movies, International Movies  2018      7    6   \n",
       "7933                 Children & Family Movies, Comedies  2017     11   17   \n",
       "5306  Action & Adventure, Comedies, International Mo...  2017      9    1   \n",
       "5923                             Kids' TV, TV Thrillers  2014     11   19   \n",
       "6593                                    Stand-Up Comedy  2017      8    8   \n",
       "\n",
       "                         genre    lead_actor  \n",
       "4783                    Dramas   Mario Casas  \n",
       "7933  Children & Family Movies  Nicola Lambo  \n",
       "5306        Action & Adventure   Moritz Jahn  \n",
       "5923                  Kids' TV    R.L. Stine  \n",
       "6593           Stand-Up Comedy   Denis Leary  "
      ]
     },
     "execution_count": 246,
     "metadata": {},
     "output_type": "execute_result"
    }
   ],
   "source": [
    "df.sample(5)"
   ]
  },
  {
   "cell_type": "code",
   "execution_count": 248,
   "id": "5f134df3-192d-41cf-812d-07c5e1f7eb92",
   "metadata": {},
   "outputs": [],
   "source": [
    "df.drop([\"cast\",\"listed_in\"], axis=1, inplace=True)"
   ]
  },
  {
   "cell_type": "code",
   "execution_count": 250,
   "id": "bf45ab19-6630-45ce-a9af-b53c711e614e",
   "metadata": {},
   "outputs": [
    {
     "data": {
      "text/html": [
       "<div>\n",
       "<style scoped>\n",
       "    .dataframe tbody tr th:only-of-type {\n",
       "        vertical-align: middle;\n",
       "    }\n",
       "\n",
       "    .dataframe tbody tr th {\n",
       "        vertical-align: top;\n",
       "    }\n",
       "\n",
       "    .dataframe thead th {\n",
       "        text-align: right;\n",
       "    }\n",
       "</style>\n",
       "<table border=\"1\" class=\"dataframe\">\n",
       "  <thead>\n",
       "    <tr style=\"text-align: right;\">\n",
       "      <th></th>\n",
       "      <th>type</th>\n",
       "      <th>title</th>\n",
       "      <th>director</th>\n",
       "      <th>country</th>\n",
       "      <th>date_added</th>\n",
       "      <th>release_year</th>\n",
       "      <th>rating</th>\n",
       "      <th>duration</th>\n",
       "      <th>year</th>\n",
       "      <th>month</th>\n",
       "      <th>day</th>\n",
       "      <th>genre</th>\n",
       "      <th>lead_actor</th>\n",
       "    </tr>\n",
       "  </thead>\n",
       "  <tbody>\n",
       "    <tr>\n",
       "      <th>5193</th>\n",
       "      <td>TV Show</td>\n",
       "      <td>The Little Nyonya</td>\n",
       "      <td>Not mentioned</td>\n",
       "      <td>United States</td>\n",
       "      <td>2017-11-01</td>\n",
       "      <td>2009</td>\n",
       "      <td>TV-14</td>\n",
       "      <td>1 Season</td>\n",
       "      <td>2017</td>\n",
       "      <td>11</td>\n",
       "      <td>1</td>\n",
       "      <td>International TV Shows</td>\n",
       "      <td>Jeanette Aw</td>\n",
       "    </tr>\n",
       "    <tr>\n",
       "      <th>3793</th>\n",
       "      <td>Movie</td>\n",
       "      <td>Svaha: The Sixth Finger</td>\n",
       "      <td>Jang Jae-hyun</td>\n",
       "      <td>South Korea</td>\n",
       "      <td>2019-05-30</td>\n",
       "      <td>2019</td>\n",
       "      <td>TV-MA</td>\n",
       "      <td>123 min</td>\n",
       "      <td>2019</td>\n",
       "      <td>5</td>\n",
       "      <td>30</td>\n",
       "      <td>International Movies</td>\n",
       "      <td>Lee Jung-jae</td>\n",
       "    </tr>\n",
       "    <tr>\n",
       "      <th>3900</th>\n",
       "      <td>TV Show</td>\n",
       "      <td>My Dear Boy</td>\n",
       "      <td>Not mentioned</td>\n",
       "      <td>Taiwan</td>\n",
       "      <td>2019-04-19</td>\n",
       "      <td>2017</td>\n",
       "      <td>TV-MA</td>\n",
       "      <td>1 Season</td>\n",
       "      <td>2019</td>\n",
       "      <td>4</td>\n",
       "      <td>19</td>\n",
       "      <td>International TV Shows</td>\n",
       "      <td>Ruby Lin</td>\n",
       "    </tr>\n",
       "    <tr>\n",
       "      <th>2712</th>\n",
       "      <td>Movie</td>\n",
       "      <td>The Death of Stalin</td>\n",
       "      <td>Armando Iannucci</td>\n",
       "      <td>United Kingdom, France, Belgium, Canada, Unite...</td>\n",
       "      <td>2020-04-03</td>\n",
       "      <td>2017</td>\n",
       "      <td>R</td>\n",
       "      <td>107 min</td>\n",
       "      <td>2020</td>\n",
       "      <td>4</td>\n",
       "      <td>3</td>\n",
       "      <td>Comedies</td>\n",
       "      <td>Steve Buscemi</td>\n",
       "    </tr>\n",
       "    <tr>\n",
       "      <th>6104</th>\n",
       "      <td>Movie</td>\n",
       "      <td>Ai Weiwei: Never Sorry</td>\n",
       "      <td>Alison Klayman</td>\n",
       "      <td>United States</td>\n",
       "      <td>2018-03-01</td>\n",
       "      <td>2012</td>\n",
       "      <td>R</td>\n",
       "      <td>91 min</td>\n",
       "      <td>2018</td>\n",
       "      <td>3</td>\n",
       "      <td>1</td>\n",
       "      <td>Documentaries</td>\n",
       "      <td>Ai Weiwei</td>\n",
       "    </tr>\n",
       "  </tbody>\n",
       "</table>\n",
       "</div>"
      ],
      "text/plain": [
       "         type                    title          director  \\\n",
       "5193  TV Show        The Little Nyonya     Not mentioned   \n",
       "3793    Movie  Svaha: The Sixth Finger     Jang Jae-hyun   \n",
       "3900  TV Show              My Dear Boy     Not mentioned   \n",
       "2712    Movie      The Death of Stalin  Armando Iannucci   \n",
       "6104    Movie   Ai Weiwei: Never Sorry    Alison Klayman   \n",
       "\n",
       "                                                country date_added  \\\n",
       "5193                                      United States 2017-11-01   \n",
       "3793                                        South Korea 2019-05-30   \n",
       "3900                                             Taiwan 2019-04-19   \n",
       "2712  United Kingdom, France, Belgium, Canada, Unite... 2020-04-03   \n",
       "6104                                      United States 2018-03-01   \n",
       "\n",
       "      release_year rating  duration  year  month  day                   genre  \\\n",
       "5193          2009  TV-14  1 Season  2017     11    1  International TV Shows   \n",
       "3793          2019  TV-MA   123 min  2019      5   30    International Movies   \n",
       "3900          2017  TV-MA  1 Season  2019      4   19  International TV Shows   \n",
       "2712          2017      R   107 min  2020      4    3                Comedies   \n",
       "6104          2012      R    91 min  2018      3    1           Documentaries   \n",
       "\n",
       "         lead_actor  \n",
       "5193    Jeanette Aw  \n",
       "3793   Lee Jung-jae  \n",
       "3900       Ruby Lin  \n",
       "2712  Steve Buscemi  \n",
       "6104      Ai Weiwei  "
      ]
     },
     "execution_count": 250,
     "metadata": {},
     "output_type": "execute_result"
    }
   ],
   "source": [
    "df.sample(5)"
   ]
  },
  {
   "cell_type": "code",
   "execution_count": 254,
   "id": "d88498cb-566a-4ab6-b710-3b1926299521",
   "metadata": {},
   "outputs": [],
   "source": [
    "df.to_csv(\"cleaned_data.csv\")"
   ]
  },
  {
   "cell_type": "code",
   "execution_count": null,
   "id": "eb8bb589-a38b-406f-9154-e787ac32024b",
   "metadata": {},
   "outputs": [],
   "source": []
  }
 ],
 "metadata": {
  "kernelspec": {
   "display_name": "Python [conda env:base] *",
   "language": "python",
   "name": "conda-base-py"
  },
  "language_info": {
   "codemirror_mode": {
    "name": "ipython",
    "version": 3
   },
   "file_extension": ".py",
   "mimetype": "text/x-python",
   "name": "python",
   "nbconvert_exporter": "python",
   "pygments_lexer": "ipython3",
   "version": "3.12.7"
  }
 },
 "nbformat": 4,
 "nbformat_minor": 5
}
